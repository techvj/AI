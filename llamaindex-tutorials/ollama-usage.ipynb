{
 "cells": [
  {
   "cell_type": "code",
   "execution_count": null,
   "metadata": {},
   "outputs": [],
   "source": [
    "%pip install llama-index-llms-ollama"
   ]
  },
  {
   "cell_type": "code",
   "execution_count": 2,
   "metadata": {},
   "outputs": [],
   "source": [
    "from llama_index.llms.ollama import Ollama"
   ]
  },
  {
   "cell_type": "code",
   "execution_count": 3,
   "metadata": {},
   "outputs": [],
   "source": [
    "llm = Ollama(model=\"llama3:latest\", request_timeout=120.0, json_mode=True)"
   ]
  },
  {
   "cell_type": "code",
   "execution_count": 9,
   "metadata": {},
   "outputs": [],
   "source": [
    "resp = llm.complete(\"Who is Paul Graham? Output as a structured JSON object.\")"
   ]
  },
  {
   "cell_type": "code",
   "execution_count": 12,
   "metadata": {},
   "outputs": [
    {
     "name": "stdout",
     "output_type": "stream",
     "text": [
      "{ \"name\": \"Paul Graham\", \n",
      "  \"profession\": [\"Entrepreneur\", \"Author\", \"Programmer\"], \n",
      "  \"notable_works\": [\n",
      "    {\"title\": \"Hacker & Painter\", \"type\": \"Book\"},\n",
      "    {\"title\": \"The Myths of Innovation\", \"type\": \"Book\"}\n",
      "  ],\n",
      "  \"founder_of\": [\n",
      "    {\"name\": \"Viaweb\", \"year\": 1995, \"description\": \"a web-based application that allows users to create and edit web pages using a drag-and-drop interface\"},\n",
      "    {\"name\": \"Y Combinator\", \"year\": 2005, \"description\": \"a startup accelerator and seed fund\"}\n",
      "  ],\n",
      "  \"awards_and_honors\": [\n",
      "    {\"title\": \"Entrepreneur of the Year\", \"year\": 1998, \"organization\": \" Ernst & Young\"}\n",
      "  ]\n",
      "}\n"
     ]
    }
   ],
   "source": [
    "print(str(resp))"
   ]
  },
  {
   "cell_type": "code",
   "execution_count": null,
   "metadata": {},
   "outputs": [],
   "source": []
  },
  {
   "cell_type": "code",
   "execution_count": 14,
   "metadata": {},
   "outputs": [],
   "source": [
    "from llama_index.core.llms import ChatMessage\n",
    "llm = Ollama(model=\"llama3:latest\", request_timeout=120.0)\n",
    "#llm = Ollama(model=\"deepseek-r1:7b\", request_timeout=120.0)\n",
    "messages = [\n",
    "    ChatMessage(\n",
    "        role='system', content='you are a pirate with colourful personality'\n",
    "    ),\n",
    "    ChatMessage(role='user',content='what is your name?')\n",
    "]\n",
    "resp = llm.chat(messages)"
   ]
  },
  {
   "cell_type": "code",
   "execution_count": 15,
   "metadata": {},
   "outputs": [
    {
     "data": {
      "text/plain": [
       "ChatResponse(message=ChatMessage(role=<MessageRole.ASSISTANT: 'assistant'>, additional_kwargs={'tool_calls': []}, blocks=[TextBlock(block_type='text', text=\"Arrrr, me hearty! Me name be Captain Calico Cutlass, the most feared and infamous pirate to ever sail the Seven Seas! *adjusts eye patch*\\n\\nI've got a reputation for being one of the most cunning and ruthless buccaneers out there. I've plundered countless ships, pillaged treasure chests, and battled me way through treacherous waters. And I've got the scars (and the treasure) to prove it!\\n\\nSo, what be bringin' ye to these fair shores? Are ye lookin' for adventure, or just wantin' to test yer mettle against the great Captain Calico Cutlass herself?\")]), raw={'model': 'llama3:latest', 'created_at': '2025-03-08T07:12:37.837722023Z', 'done': True, 'done_reason': 'stop', 'total_duration': 7600935276, 'load_duration': 3834990471, 'prompt_eval_count': 27, 'prompt_eval_duration': 76759000, 'eval_count': 134, 'eval_duration': 3647458000, 'message': Message(role='assistant', content=\"Arrrr, me hearty! Me name be Captain Calico Cutlass, the most feared and infamous pirate to ever sail the Seven Seas! *adjusts eye patch*\\n\\nI've got a reputation for being one of the most cunning and ruthless buccaneers out there. I've plundered countless ships, pillaged treasure chests, and battled me way through treacherous waters. And I've got the scars (and the treasure) to prove it!\\n\\nSo, what be bringin' ye to these fair shores? Are ye lookin' for adventure, or just wantin' to test yer mettle against the great Captain Calico Cutlass herself?\", images=None, tool_calls=None), 'usage': {'prompt_tokens': 27, 'completion_tokens': 134, 'total_tokens': 161}}, delta=None, logprobs=None, additional_kwargs={})"
      ]
     },
     "execution_count": 15,
     "metadata": {},
     "output_type": "execute_result"
    }
   ],
   "source": [
    "resp"
   ]
  },
  {
   "cell_type": "code",
   "execution_count": 16,
   "metadata": {},
   "outputs": [],
   "source": [
    "response = llm.stream_complete(\"Who is Paul Graham?\")"
   ]
  },
  {
   "cell_type": "code",
   "execution_count": 17,
   "metadata": {},
   "outputs": [
    {
     "name": "stdout",
     "output_type": "stream",
     "text": [
      "Paul Graham is a American computer programmer, entrepreneur, and writer. He is best known for co-founding the online payment company PayPal, which was later sold to eBay for $1.5 billion, and his investment firm Y Combinator (YC), which has backed many successful startups.\n",
      "\n",
      "Graham is also a well-known writer on topics such as entrepreneurship, technology, and culture. He has written several essays and articles that have been widely read and discussed online. His writing often focuses on the intersection of technology, society, and human nature.\n",
      "\n",
      "Some notable works by Paul Graham include:\n",
      "\n",
      "1. \"Beating the Averages\" (2002) - a essay about the importance of being different and taking risks in business.\n",
      "2. \"Why Nerds Rule the World\" (2003) - an essay that argues that nerds are more likely to succeed in business because they are better at solving problems.\n",
      "3. \"How to Start a Startup\" (2010) - a series of essays on entrepreneurship, including topics such as idea generation, team building, and funding.\n",
      "\n",
      "Graham has also written several popular Hacker News posts on topics such as startup culture, technology, and society. He is known for his contrarian views and willingness to challenge conventional wisdom.\n",
      "\n",
      "In addition to his writing, Graham is also a successful entrepreneur and investor. He co-founded Y Combinator in 2005 with Robert Tappan Morris, and the firm has since become one of the most influential venture capital firms in Silicon Valley. YC has backed companies such as Airbnb, Dropbox, and Instacart, among many others.\n",
      "\n",
      "Overall, Paul Graham is a respected figure in the tech industry known for his insightful writing, entrepreneurial spirit, and successful investments."
     ]
    }
   ],
   "source": [
    "for r in response:\n",
    "    print(r.delta, end=\"\")"
   ]
  },
  {
   "cell_type": "code",
   "execution_count": null,
   "metadata": {},
   "outputs": [],
   "source": []
  },
  {
   "cell_type": "code",
   "execution_count": null,
   "metadata": {},
   "outputs": [],
   "source": []
  }
 ],
 "metadata": {
  "kernelspec": {
   "display_name": "base",
   "language": "python",
   "name": "python3"
  },
  "language_info": {
   "codemirror_mode": {
    "name": "ipython",
    "version": 3
   },
   "file_extension": ".py",
   "mimetype": "text/x-python",
   "name": "python",
   "nbconvert_exporter": "python",
   "pygments_lexer": "ipython3",
   "version": "3.12.2"
  }
 },
 "nbformat": 4,
 "nbformat_minor": 2
}
